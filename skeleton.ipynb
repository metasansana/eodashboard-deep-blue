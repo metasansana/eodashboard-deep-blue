{
 "cells": [
  {
   "cell_type": "code",
   "execution_count": 87,
   "id": "a3100b0a-9449-40f7-87c3-6767720257f1",
   "metadata": {},
   "outputs": [
    {
     "data": {
      "text/html": [
       "<script type=\"text/javascript\">\n",
       "        function toggle(id) {\n",
       "            el = document.getElementById(id);\n",
       "            el.style.display = el.style.display === \"none\" ? \"block\" : \"none\";\n",
       "        }\n",
       "    </script>"
      ],
      "text/plain": [
       "<IPython.core.display.HTML object>"
      ]
     },
     "metadata": {},
     "output_type": "display_data"
    },
    {
     "data": {
      "text/html": [
       "This notebook is compatible with this base image version (user-0.24.5)."
      ],
      "text/plain": [
       "<IPython.core.display.HTML object>"
      ]
     },
     "metadata": {},
     "output_type": "display_data"
    },
    {
     "data": {
      "text/markdown": [
       "\n",
       "\n",
       "---------\n",
       "\n",
       "The following environment variables are available:\n",
       "\n",
       "* `XCUBE_GEN_AUTH_CLIENT_SECRET`, `XCUBE_GEN_AUTH_AUD`, `XCUBE_GEN_API_SERVER_PORT`, `XCUBE_GEN_AUTH_DOMAIN`, `XCUBE_GEN_API_SERVER_URL`, `XCUBE_GEN_AUTH_CLIENT_ID`\n"
      ],
      "text/plain": [
       "<IPython.core.display.Markdown object>"
      ]
     },
     "metadata": {},
     "output_type": "display_data"
    }
   ],
   "source": [
    "from edc import check_compatibility\n",
    "check_compatibility(\"user-0.24.5\", dependencies=[\"XCUBE_GEN\"])"
   ]
  },
  {
   "cell_type": "code",
   "execution_count": 88,
   "id": "35a68c5d-1df8-422f-b14f-6f71ad4746d4",
   "metadata": {},
   "outputs": [],
   "source": [
    "from xcube.core.gen2 import CubeGeneratorRequest\n",
    "from xcube.core.gen2.service import CubeGeneratorService\n",
    "from xcube.core.gen2.service import ServiceConfig\n",
    "\n",
    "# utilities\n",
    "import os\n",
    "import xcube\n",
    "import IPython.display\n",
    "import shapely.geometry\n",
    "%matplotlib inline"
   ]
  },
  {
   "cell_type": "code",
   "execution_count": 89,
   "id": "ca7ace16-8132-471f-a093-05e464db9967",
   "metadata": {},
   "outputs": [
    {
     "data": {
      "text/markdown": [
       "API credentials have automatically been injected for your active subscriptions.  \n",
       "The following environment variables are now available:\n",
       "* `GEODB_API_SERVER_PORT`, `GEODB_API_SERVER_URL`, `GEODB_AUTH_AUD`, `GEODB_AUTH_CLIENT_ID`, `GEODB_AUTH_CLIENT_SECRET`, `GEODB_AUTH_DOMAIN`\n",
       "* `XCUBE_GEN_API_SERVER_PORT`, `XCUBE_GEN_API_SERVER_URL`, `XCUBE_GEN_AUTH_AUD`, `XCUBE_GEN_AUTH_CLIENT_ID`, `XCUBE_GEN_AUTH_CLIENT_SECRET`, `XCUBE_GEN_AUTH_DOMAIN`\n",
       "\n"
      ],
      "text/plain": [
       "<IPython.core.display.Markdown object>"
      ]
     },
     "metadata": {},
     "output_type": "display_data"
    }
   ],
   "source": [
    "from edc import setup_environment_variables\n",
    "setup_environment_variables()"
   ]
  },
  {
   "cell_type": "code",
   "execution_count": 90,
   "id": "a827aed6-78c9-478f-91c8-1be762ffc154",
   "metadata": {},
   "outputs": [
    {
     "name": "stdout",
     "output_type": "stream",
     "text": [
      "https://xcube-gen.brockmann-consult.de\n"
     ]
    }
   ],
   "source": [
    "service_config_json = {\n",
    "  \"endpoint_url\": os.getenv(\"XCUBE_GEN_API_SERVER_URL\") + \"/api/v2\", \n",
    "  \"client_id\": os.getenv(\"XCUBE_GEN_AUTH_CLIENT_ID\"), \n",
    "  \"client_secret\": os.getenv(\"XCUBE_GEN_AUTH_CLIENT_SECRET\") \n",
    "}\n",
    "print(os.getenv(\"XCUBE_GEN_API_SERVER_URL\"))\n"
   ]
  },
  {
   "cell_type": "code",
   "execution_count": 91,
   "id": "57327230-b1d2-4dce-9fe4-c8f747a84022",
   "metadata": {},
   "outputs": [],
   "source": [
    "service_config = ServiceConfig.from_dict(service_config_json)"
   ]
  },
  {
   "cell_type": "code",
   "execution_count": 92,
   "id": "f2b1d503-ec5c-4784-8fb5-0423c1a88720",
   "metadata": {},
   "outputs": [],
   "source": [
    "x1 = -120  # degree\n",
    "y1 = 30  # degree\n",
    "x2 = -60  # degree\n",
    "y2 = 5  # degree\n",
    "\n",
    "bbox = x1, y1, x2, y2"
   ]
  },
  {
   "cell_type": "code",
   "execution_count": 93,
   "id": "5bd7361e-a224-495b-adcf-6023fe2004d0",
   "metadata": {},
   "outputs": [
    {
     "data": {
      "application/geo+json": {
       "coordinates": [
        [
         [
          -60,
          30
         ],
         [
          -60,
          5
         ],
         [
          -120,
          5
         ],
         [
          -120,
          30
         ],
         [
          -60,
          30
         ]
        ]
       ],
       "type": "Polygon"
      },
      "text/plain": [
       "<IPython.display.GeoJSON object>"
      ]
     },
     "metadata": {
      "application/geo+json": {
       "expanded": false,
       "root": "root"
      }
     },
     "output_type": "display_data"
    }
   ],
   "source": [
    "IPython.display.GeoJSON(shapely.geometry.box(*bbox).__geo_interface__)"
   ]
  },
  {
   "cell_type": "code",
   "execution_count": 94,
   "id": "fa36a164-a30b-4fd7-9cb5-01749f438d38",
   "metadata": {},
   "outputs": [],
   "source": [
    "request_json = {\n",
    "  \"input_config\": {\n",
    "    \"store_id\": \"@sentinelhub_eu\",\n",
    "    \"data_id\": \"S2L2A\"\n",
    "  },\n",
    "  \"cube_config\": {\n",
    "    \"variable_names\": [\"B04\", \"B05\"],\n",
    "    \"bbox\": bbox,\n",
    "    \"spatial_res\": 0.001,\n",
    "    \"tile_size\": [1024, 1024],\n",
    "    \"crs\": \"WGS84\",\n",
    "    \"time_range\": [\"2019-03-01\", \"2019-03-15\"],\n",
    "    \"time_period\": \"1D\"\n",
    "  },\n",
    "  \"output_config\": {\n",
    "    \"store_id\": \"@eurodatacube_scratch\",\n",
    "    \"data_id\": \"SH_demo.zarr\",\n",
    "    \"replace\": True\n",
    "  }\n",
    "}"
   ]
  },
  {
   "cell_type": "code",
   "execution_count": 95,
   "id": "a49f531f-203d-4fb9-be6e-8db6b747ebfa",
   "metadata": {},
   "outputs": [
    {
     "data": {
      "application/json": {
       "cube_config": {
        "bbox": [
         -120,
         30,
         -60,
         5
        ],
        "crs": "WGS84",
        "spatial_res": 0.001,
        "tile_size": [
         1024,
         1024
        ],
        "time_period": "1D",
        "time_range": [
         "2019-03-01",
         "2019-03-15"
        ],
        "variable_names": [
         "B04",
         "B05"
        ]
       },
       "input_config": {
        "data_id": "S2L2A",
        "store_id": "@sentinelhub_eu"
       },
       "output_config": {
        "data_id": "SH_demo.zarr",
        "replace": true,
        "store_id": "@eurodatacube_scratch"
       }
      },
      "text/plain": [
       "<xcube.core.gen2.request.CubeGeneratorRequest at 0x7f4f3c1c8910>"
      ]
     },
     "execution_count": 95,
     "metadata": {},
     "output_type": "execute_result"
    }
   ],
   "source": [
    "request = CubeGeneratorRequest.from_dict(request_json)\n",
    "request"
   ]
  },
  {
   "cell_type": "code",
   "execution_count": 96,
   "id": "6d9aa89a-7935-4724-b23d-7f3997c294e4",
   "metadata": {},
   "outputs": [
    {
     "data": {
      "application/json": {
       "cost_estimation": {
        "available": 15000,
        "limit": 10000,
        "required": 30
       },
       "dataset_descriptor": {
        "bbox": [
         -120,
         30,
         -60,
         5
        ],
        "crs": "WGS84",
        "data_id": "SH_demo.zarr",
        "data_vars": {
         "B04": {
          "dims": [
           "time",
           "lat",
           "lon"
          ],
          "dtype": "float32",
          "name": "B04"
         },
         "B05": {
          "dims": [
           "time",
           "lat",
           "lon"
          ],
          "dtype": "float32",
          "name": "B05"
         }
        },
        "dims": {
         "lat": 2,
         "lon": 60416,
         "time": 15
        },
        "spatial_res": 0.001,
        "time_period": "1D",
        "time_range": [
         "2019-03-01",
         "2019-03-15"
        ],
        "type_specifier": "dataset"
       },
       "size_estimation": {
        "image_size": [
         60416,
         2
        ],
        "num_bytes": 14499840,
        "num_requests": 1770,
        "num_tiles": [
         59,
         1
        ],
        "num_variables": 2,
        "tile_size": [
         1024,
         1024
        ]
       }
      },
      "text/plain": [
       "<xcube.core.gen2.service.response.CubeInfoWithCosts at 0x7f4f3c0b51c0>"
      ]
     },
     "execution_count": 96,
     "metadata": {},
     "output_type": "execute_result"
    }
   ],
   "source": [
    "cube_request = CubeGeneratorService(request, service_config, verbosity=1)\n",
    "cube_info = cube_request.get_cube_info()\n",
    "cube_info"
   ]
  },
  {
   "cell_type": "code",
   "execution_count": 99,
   "id": "ae586424-a12c-4b47-8410-5a315534d3f3",
   "metadata": {},
   "outputs": [
    {
     "ename": "CubeGeneratorError",
     "evalue": "Cube generation failed",
     "output_type": "error",
     "traceback": [
      "\u001b[0;31m---------------------------------------------------------------------------\u001b[0m",
      "\u001b[0;31mCubeGeneratorError\u001b[0m                        Traceback (most recent call last)",
      "\u001b[0;32m<ipython-input-99-fce3b8fd01ec>\u001b[0m in \u001b[0;36m<module>\u001b[0;34m\u001b[0m\n\u001b[0;32m----> 1\u001b[0;31m \u001b[0mcube_id\u001b[0m \u001b[0;34m=\u001b[0m \u001b[0mcube_request\u001b[0m\u001b[0;34m.\u001b[0m\u001b[0mgenerate_cube\u001b[0m\u001b[0;34m(\u001b[0m\u001b[0;34m)\u001b[0m\u001b[0;34m\u001b[0m\u001b[0;34m\u001b[0m\u001b[0m\n\u001b[0m\u001b[1;32m      2\u001b[0m \u001b[0mcube_id\u001b[0m\u001b[0;34m\u001b[0m\u001b[0;34m\u001b[0m\u001b[0m\n",
      "\u001b[0;32m/opt/conda/envs/eurodatacube-0.24.5/lib/python3.8/site-packages/xcube/core/gen2/service/generator.py\u001b[0m in \u001b[0;36mgenerate_cube\u001b[0;34m(self)\u001b[0m\n\u001b[1;32m    123\u001b[0m                 response = requests.get(self.endpoint_op(f'cubegens/{cubegen_id}'),\n\u001b[1;32m    124\u001b[0m                                         headers=self.auth_headers)\n\u001b[0;32m--> 125\u001b[0;31m                 \u001b[0mresult\u001b[0m \u001b[0;34m=\u001b[0m \u001b[0mself\u001b[0m\u001b[0;34m.\u001b[0m\u001b[0m_get_cube_generation_result\u001b[0m\u001b[0;34m(\u001b[0m\u001b[0mresponse\u001b[0m\u001b[0;34m)\u001b[0m\u001b[0;34m\u001b[0m\u001b[0;34m\u001b[0m\u001b[0m\n\u001b[0m\u001b[1;32m    126\u001b[0m                 \u001b[0;32mif\u001b[0m \u001b[0mresult\u001b[0m\u001b[0;34m.\u001b[0m\u001b[0mstatus\u001b[0m\u001b[0;34m.\u001b[0m\u001b[0msucceeded\u001b[0m\u001b[0;34m:\u001b[0m\u001b[0;34m\u001b[0m\u001b[0;34m\u001b[0m\u001b[0m\n\u001b[1;32m    127\u001b[0m                     \u001b[0;32mreturn\u001b[0m \u001b[0mself\u001b[0m\u001b[0;34m.\u001b[0m\u001b[0m_get_data_id\u001b[0m\u001b[0;34m(\u001b[0m\u001b[0mcubegen_id\u001b[0m \u001b[0;34m+\u001b[0m \u001b[0;34m'.zarr'\u001b[0m\u001b[0;34m)\u001b[0m\u001b[0;34m\u001b[0m\u001b[0;34m\u001b[0m\u001b[0m\n",
      "\u001b[0;32m/opt/conda/envs/eurodatacube-0.24.5/lib/python3.8/site-packages/xcube/core/gen2/service/generator.py\u001b[0m in \u001b[0;36m_get_cube_generation_result\u001b[0;34m(self, response, request_data)\u001b[0m\n\u001b[1;32m    152\u001b[0m                                 if isinstance(item, dict) and 'message' in item]\n\u001b[1;32m    153\u001b[0m                 \u001b[0mmessage\u001b[0m \u001b[0;34m=\u001b[0m \u001b[0;34mf'{message}: {\": \".join(sub_messages)}'\u001b[0m\u001b[0;34m\u001b[0m\u001b[0;34m\u001b[0m\u001b[0m\n\u001b[0;32m--> 154\u001b[0;31m             raise CubeGeneratorError(message,\n\u001b[0m\u001b[1;32m    155\u001b[0m                                      remote_output=result.output)\n\u001b[1;32m    156\u001b[0m         \u001b[0;32mreturn\u001b[0m \u001b[0mresult\u001b[0m\u001b[0;34m\u001b[0m\u001b[0;34m\u001b[0m\u001b[0m\n",
      "\u001b[0;31mCubeGeneratorError\u001b[0m: Cube generation failed"
     ]
    }
   ],
   "source": [
    "cube_id = cube_request.generate_cube()\n",
    "cube_id"
   ]
  },
  {
   "cell_type": "code",
   "execution_count": null,
   "id": "0c058239-6952-48ef-b138-0cc6b3b21864",
   "metadata": {},
   "outputs": [],
   "source": [
    "xcube_store = xcube.core.store.new_data_store(\"s3\", anon=True, bucket_name=\"eurodatacube-scratch\")"
   ]
  },
  {
   "cell_type": "code",
   "execution_count": 98,
   "id": "0bdacd8f-a777-4eef-a40d-73e7fd408874",
   "metadata": {},
   "outputs": [
    {
     "ename": "NameError",
     "evalue": "name 'dataset_id_list' is not defined",
     "output_type": "error",
     "traceback": [
      "\u001b[0;31m---------------------------------------------------------------------------\u001b[0m",
      "\u001b[0;31mNameError\u001b[0m                                 Traceback (most recent call last)",
      "\u001b[0;32m<ipython-input-98-58e8f8e8cba0>\u001b[0m in \u001b[0;36m<module>\u001b[0;34m\u001b[0m\n\u001b[0;32m----> 1\u001b[0;31m \u001b[0mdataset_id_list\u001b[0m\u001b[0;34m\u001b[0m\u001b[0;34m\u001b[0m\u001b[0m\n\u001b[0m",
      "\u001b[0;31mNameError\u001b[0m: name 'dataset_id_list' is not defined"
     ]
    }
   ],
   "source": [
    "dataset_id_list"
   ]
  },
  {
   "cell_type": "code",
   "execution_count": null,
   "id": "015b2a9a-719b-4f1c-bc87-db010d3aa97e",
   "metadata": {},
   "outputs": [],
   "source": []
  }
 ],
 "metadata": {
  "kernelspec": {
   "display_name": "EDC 0.24.5 (Python3)",
   "language": "python",
   "name": "edc"
  },
  "language_info": {
   "codemirror_mode": {
    "name": "ipython",
    "version": 3
   },
   "file_extension": ".py",
   "mimetype": "text/x-python",
   "name": "python",
   "nbconvert_exporter": "python",
   "pygments_lexer": "ipython3",
   "version": "3.8.10"
  }
 },
 "nbformat": 4,
 "nbformat_minor": 5
}
